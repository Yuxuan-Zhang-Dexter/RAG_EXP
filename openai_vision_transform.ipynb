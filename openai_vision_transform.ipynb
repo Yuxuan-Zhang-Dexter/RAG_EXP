{
 "cells": [
  {
   "cell_type": "markdown",
   "metadata": {},
   "source": [
    "## Langchain and OpenAI API to Extract Text and Table from PDF"
   ]
  },
  {
   "cell_type": "code",
   "execution_count": 1,
   "metadata": {},
   "outputs": [
    {
     "name": "stdout",
     "output_type": "stream",
     "text": [
      "ChatCompletionMessage(content='In the realm of loops and calls so pure,\\nLies a technique that offers much allure.\\nRecursion, a wondrous coding art,\\nA poetic dance, a song from the heart.\\n\\nAt its core, a function calls its own name,\\nEchoing through the code like a mystical flame.\\nBreaking down problems both big and small,\\nInto simpler tasks, it heeds the call.\\n\\nLike a nesting doll, layers upon layers,\\nEach one a mirror of its neighbors.\\nWith a base case to stop the chain,\\nRecursion brings harmony, no task in vain.\\n\\nAs the function unwinds, gracefully it flows,\\nSolving puzzles, revealing the path it knows.\\nA beauty in simplicity, elegance in form,\\nRecursion weaves magic, a coding norm.\\n\\nSo embrace the recursion, let it guide your hand,\\nIn the world of programming, a symphony so grand.\\nFor in its loops and calls, a masterpiece unfurled,\\nRecursion, the enchanting dance of the coding world.', role='assistant', function_call=None, tool_calls=None)\n"
     ]
    }
   ],
   "source": [
    "# # - Test OpenAI_API_Key\n",
    "# from openai import OpenAI\n",
    "# client = OpenAI()\n",
    "\n",
    "# completion = client.chat.completions.create(\n",
    "#   model=\"gpt-3.5-turbo\",\n",
    "#   messages=[\n",
    "#     {\"role\": \"system\", \"content\": \"You are a poetic assistant, skilled in explaining complex programming concepts with creative flair.\"},\n",
    "#     {\"role\": \"user\", \"content\": \"Compose a poem that explains the concept of recursion in programming.\"}\n",
    "#   ]\n",
    "# )\n",
    "\n",
    "# print(completion.choices[0].message)"
   ]
  },
  {
   "cell_type": "code",
   "execution_count": 2,
   "metadata": {},
   "outputs": [
    {
     "name": "stdout",
     "output_type": "stream",
     "text": [
      "Choice(finish_reason='stop', index=0, logprobs=None, message=ChatCompletionMessage(content='This image depicts a scenic view of a lush green field with tall grass, some bushes, and scattered trees in the distance. In the foreground, there is a wooden boardwalk pathway that extends into the distance, appearing to guide the viewer’s eye toward the horizon. The sky above is bright blue with scattered white clouds, contributing to a serene, picturesque outdoor scene.', role='assistant', function_call=None, tool_calls=None))\n"
     ]
    }
   ],
   "source": [
    "# # - Test OpenAI Image Process\n",
    "# from openai import OpenAI\n",
    "\n",
    "# client = OpenAI()\n",
    "\n",
    "# response = client.chat.completions.create(\n",
    "#   model=\"gpt-4o\",\n",
    "#   messages=[\n",
    "#     {\n",
    "#       \"role\": \"user\",\n",
    "#       \"content\": [\n",
    "#         {\"type\": \"text\", \"text\": \"What’s in this image?\"},\n",
    "#         {\n",
    "#           \"type\": \"image_url\",\n",
    "#           \"image_url\": {\n",
    "#             \"url\": \"https://upload.wikimedia.org/wikipedia/commons/thumb/d/dd/Gfp-wisconsin-madison-the-nature-boardwalk.jpg/2560px-Gfp-wisconsin-madison-the-nature-boardwalk.jpg\",\n",
    "#           },\n",
    "#         },\n",
    "#       ],\n",
    "#     }\n",
    "#   ],\n",
    "#   max_tokens=300,\n",
    "# )\n",
    "\n",
    "# print(response.choices[0])"
   ]
  },
  {
   "cell_type": "code",
   "execution_count": 4,
   "metadata": {},
   "outputs": [],
   "source": [
    "# - Convert PDF to Images\n",
    "import fitz\n",
    "from PIL import Image\n",
    "import os\n",
    "\n",
    "def create_output_folder(folder_path):\n",
    "    if not os.path.exists(folder_path):\n",
    "        os.makedirs(folder_path)\n",
    "\n",
    "def pdf_to_images(pdf_path, output_folder):\n",
    "    create_output_folder(output_folder)\n",
    "    pdf_document = fitz.open(pdf_path)\n",
    "    \n",
    "    for page_num in range(pdf_document.page_count):\n",
    "        # Get the page\n",
    "        page = pdf_document.load_page(page_num)\n",
    "        \n",
    "        # Render the page to a pixmap\n",
    "        pix = page.get_pixmap()\n",
    "        \n",
    "        # Convert the pixmap to an image\n",
    "        img = Image.frombytes(\"RGB\", [pix.width, pix.height], pix.samples)\n",
    "        \n",
    "        # Save the image with a name based on the page number\n",
    "        img.save(os.path.join(output_folder, f\"page_{page_num + 1}.png\"))\n",
    "\n",
    "    # Close the PDF document\n",
    "    pdf_document.close()\n",
    "\n",
    "# Example usage\n",
    "pdf_path = 'RoHS.pdf'\n",
    "output_folder = 'pdf_to_images'\n",
    "\n",
    "pdf_to_images(pdf_path, output_folder)\n"
   ]
  },
  {
   "cell_type": "code",
   "execution_count": 8,
   "metadata": {},
   "outputs": [
    {
     "name": "stdout",
     "output_type": "stream",
     "text": [
      "{'id': 'chatcmpl-9mCNgpE3l2SPrBoHhJ896lDzHL82v', 'object': 'chat.completion', 'created': 1721274364, 'model': 'gpt-4o-2024-05-13', 'choices': [{'index': 0, 'message': {'role': 'assistant', 'content': \"Here is the list of amended rules following 'Amended by: ...':\\n\\n1. **M1**: Commission Delegated Directive 2012/50/EU of 10 October 2012, published in Official Journal L 348, page 16 on 18.12.2012\\n2. **M2**: Commission Delegated Directive 2012/51/EU of 10 October 2012, published in Official Journal L 348, page 18 on 18.12.2012\\n3. **M3**: Commission Delegated Directive 2014/1/EU of 18 October 2013, published in Official Journal L 4, page 45 on 9.1.2014\\n4. **M4**: Commission Delegated Directive 2014/2/EU of 18 October 2013, published in Official Journal L 4, page 47 on 9.1.2014\\n5. **M5**: Commission Delegated Directive 2014/3/EU of 18 October 2013, published in Official Journal L 4, page 49 on 9.1.2014\\n6. **M6**: Commission Delegated Directive 2014/4/EU of 18 October 2013, published in Official Journal L 4, page 51 on 9.1.2014\\n7. **M7**: Commission Deleg\"}, 'logprobs': None, 'finish_reason': 'length'}], 'usage': {'prompt_tokens': 787, 'completion_tokens': 300, 'total_tokens': 1087}, 'system_fingerprint': 'fp_5e997b69d8'}\n"
     ]
    }
   ],
   "source": [
    "# # - Test One PDF Image\n",
    "# import base64\n",
    "# import requests\n",
    "# import os\n",
    "\n",
    "# # OpenAI API Key\n",
    "# api_key = os.getenv(\"OPENAI_API_KEY\")\n",
    "\n",
    "# # Function to encode the image\n",
    "# def encode_image(image_path):\n",
    "#   with open(image_path, \"rb\") as image_file:\n",
    "#     return base64.b64encode(image_file.read()).decode('utf-8')\n",
    "\n",
    "# # Path to your image\n",
    "# image_path = \"./pdf_to_images/page_1.png\"\n",
    "\n",
    "# # Getting the base64 string\n",
    "# base64_image = encode_image(image_path)\n",
    "\n",
    "# headers = {\n",
    "#   \"Content-Type\": \"application/json\",\n",
    "#   \"Authorization\": f\"Bearer {api_key}\"\n",
    "# }\n",
    "\n",
    "# payload = {\n",
    "#   \"model\": \"gpt-4o\",\n",
    "#   \"messages\": [\n",
    "#     {\n",
    "#       \"role\": \"user\",\n",
    "#       \"content\": [\n",
    "#         {\n",
    "#           \"type\": \"text\",\n",
    "#           \"text\": \"Please abstract a list of amend rules following 'Amended by: ...'\"\n",
    "#         },\n",
    "#         {\n",
    "#           \"type\": \"image_url\",\n",
    "#           \"image_url\": {\n",
    "#             \"url\": f\"data:image/jpeg;base64,{base64_image}\"\n",
    "#           }\n",
    "#         }\n",
    "#       ]\n",
    "#     }\n",
    "#   ],\n",
    "#   \"max_tokens\": 300\n",
    "# }\n",
    "\n",
    "# response = requests.post(\"https://api.openai.com/v1/chat/completions\", headers=headers, json=payload)\n",
    "\n",
    "# print(response.json())"
   ]
  },
  {
   "cell_type": "code",
   "execution_count": 39,
   "metadata": {},
   "outputs": [
    {
     "name": "stdout",
     "output_type": "stream",
     "text": [
      "Response saved to response.json\n",
      "{'id': 'chatcmpl-9mCxt1YihlI3DTcfEgNbufwvalqKH', 'object': 'chat.completion', 'created': 1721276609, 'model': 'gpt-4o-2024-05-13', 'choices': [{'index': 0, 'message': {'role': 'assistant', 'content': 'Here is the abstracted list of \"Amended by\" records in the provided images:\\n\\n1. M1: Commission Delegated Directive 2012/50/EU of 10 October 2012: Official Journal L 348, pages 16, dated 18.12.2012.\\n2. M2: Commission Delegated Directive 2012/51/EU of 10 October 2012: Official Journal L 348, pages 18, dated 18.12.2012.\\n3. M3: Commission Delegated Directive 2014/1/EU of 18 October 2013: Official Journal L 4, pages 45, dated 9.1.2014.\\n4. M4: Commission Delegated Directive 2014/2/EU of 18 October 2013: Official Journal L 4, pages 47, dated 9.1.2014.\\n5. M5: Commission Delegated Directive 2014/3/EU of 18 October 2013: Official Journal L 4, pages 49, dated 9.1.2014.\\n6. M6: Commission Delegated Directive 2014/4/EU of 18 October 2013: Official Journal L 4, pages 51, dated 9.1.2014.\\n7. M7: Commission Delegated Directive 2014/5/EU of 18 October 2013: Official Journal L 4, pages 53, dated 9.1.2014.\\n8. M8: Commission Delegated Directive 2014/6/EU of 18 October 2013: Official Journal L 4, pages 55, dated 9.1.2014.\\n9. M9: Commission Delegated Directive 2014/7/EU of 18 October 2013: Official Journal L 4, pages 57, dated 9.1.2014.\\n10. M10: Commission Delegated Directive 2014/8/EU of 18 October 2013: Official Journal L 4, pages 59, dated 9.1.2014.\\n11. M11: Commission Delegated Directive 2014/9/EU of 18 October 2013: Official Journal L 4, pages 61, dated 9.1.2014.\\n12. M12: Commission Delegated Directive 2014/10/EU of 18 October 2013: Official Journal L 4, pages 63, dated 9.1.2014.\\n13. M13: Commission Delegated Directive 2014/11/EU of 18 October 2013: Official Journal L 4, pages 65, dated 9.1.2014.\\n14. M14: Commission Delegated Directive 2014/12/EU of 18 October 2013: Official Journal L 4, pages 67, dated 9.1.2014.\\n15. M15: Commission Delegated Directive 2014/13/EU of 18 October 2013: Official Journal L 4, pages 69, dated 9.1.2014.\\n16. M16: Commission Delegated Directive 2014/14/EU of 18 October 2013: Official Journal L 4, pages 71, dated 9.1.2014.\\n17. M17: Commission Delegated Directive 2014/15/EU of 18 October 2013: Official Journal L 4, pages 73, dated 9.1.2014.\\n18. M18: Commission Delegated Directive 2014/16/EU of 18 October 2013: Official Journal L 4, pages 75, dated 9.1.2014.\\n19. M19: Commission Delegated Directive 2014/69/EU of 13 March 2014: Official Journal L 148, pages 72, dated 20.5.2014.\\n20. M20: Commission Delegated Directive 2014/70/EU of 13 March 2014: Official Journal L 148, pages 74, dated 20.5.2014.\\n21. M21: Commission Delegated Directive 2014/71/EU of 13 March 2014: Official Journal L 148, pages 76, dated 20.5.2014.\\n22. M22: Commission Delegated Directive 2014/72/EU of 13 March 2014: Official Journal L 148, pages 78, dated 20.5.2014.\\n23. M23: Commission Delegated Directive 2014/73/EU of 13 March 2014: Official Journal L 148, pages 80, dated 20.5.2014.\\n24. M24: Commission Delegated Directive 2014/74/EU of 13 March 2014: Official Journal L 148, pages 82, dated 20.5.2014.\\n25. M25: Commission Delegated Directive 2014/75/EU of 13 March 2014: Official Journal L 148, pages 84, dated 20.5.2014.\\n26. M26: Commission Delegated Directive 2014/76/EU of 13 March 2014: Official Journal L 148, pages 86, dated 20.5.2014.\\n27. M27: Commission Delegated Directive (EU) 2015/573 of 30 January 2015: Official Journal L 94, pages 4, dated 10.4.2015.\\n28. M28: Commission Delegated Directive (EU) 2015/574 of 30 January 2015: Official Journal L 94, pages 6, dated 10.4.2015.\\n29. M29: Commission Delegated Directive (EU) 2015/863 of 31 March 2015: Official Journal L 137, pages 10, dated 4.6.2015.\\n30. M30: Commission Delegated Directive (EU) 2016/585 of 12 February 2016: Official Journal L 101, pages 12, dated 16.4.2016.\\n31. M31: Commission Delegated Directive (EU) 2016/1028 of 19 April 2016: Official Journal L 168, pages 13, dated 25.6.2016.\\n32. M32: Commission Delegated Directive (EU) 2016/1029 of 19 April 2016: Official Journal L 168, pages 15, dated 25.6.2016.\\n33. M33: Commission Delegated Directive (EU) 2017/1009 of 13 March 2017: Official Journal L 153, pages 23, dated 16.6.2017.\\n34. M34: Commission Delegated Directive (EU) 2017/1010 of 13 March 2017: Official Journal L 153, pages 25, dated 16.6.2017.\\n35. M35: Commission Delegated Directive (EU) 2017/1011 of 15 March 2017: Official Journal L 153, pages 27, dated 16.6.2017.\\n36. M36: Commission Delegated Directive (EU) 2017/1975 of 7 August 2017: Official Journal L 281, pages 29, dated 31.10.2017.\\n37. M37: Directive (EU) 2017/2102 of the European Parliament and of the Council of 15 November 2017: Official Journal L 305, pages 8, dated 21.11.2017.\\n38. M38: Commission Delegated Directive (EU) 2018/736 of 27 February 2018: Official Journal L 123, pages 94, dated 18.5.2018.\\n39. M39: Commission Delegated Directive (EU) 2018/737 of 27 February 2018: Official Journal L 123, pages 97, dated 18.5.2018.\\n40. M40: Commission Delegated Directive (EU) 2018/738 of 27 February 2018: Official Journal L 123, pages 100, dated 18.5.2018.\\n41. M41: Commission Delegated Directive (EU) 2018/739 of 1 March 2018: Official Journal L 123, pages 103, dated 18.5.2018.\\n42. M42: Commission Delegated Directive (EU) 2018/740 of 1 March 2018: Official Journal L 123, pages 106, dated 18.5.2018.\\n43. M43: Commission Delegated Directive (EU) 2018/741 of 1 March 2018: Official Journal L 123, pages 109, dated 18.5.2018.\\n44. M44: Commission Delegated Directive (EU) 2018/742 of 1 March 2018: Official Journal L 123, pages 112, dated 18.5.2018.\\n45. M45: Commission Delegated Directive (EU) 2019/169 of 16 November 2018: Official Journal L 33, pages 5, dated 5.2.2019.\\n46. M46: Commission Delegated Directive (EU) 2019/'}, 'logprobs': None, 'finish_reason': 'length'}], 'usage': {'prompt_tokens': 1556, 'completion_tokens': 2000, 'total_tokens': 3556}, 'system_fingerprint': 'fp_5e997b69d8'}\n"
     ]
    }
   ],
   "source": [
    "# # - Test Multiple Local Images\n",
    "# import base64\n",
    "# import requests\n",
    "# import os\n",
    "# import json\n",
    "\n",
    "# # OpenAI API Key\n",
    "# api_key = os.getenv(\"OPENAI_API_KEY\")\n",
    "\n",
    "# # Function to encode the image\n",
    "# def encode_image(image_path):\n",
    "#   with open(image_path, \"rb\") as image_file:\n",
    "#     return base64.b64encode(image_file.read()).decode('utf-8')\n",
    "\n",
    "# # Paths to your local images\n",
    "# image_path1 = './pdf_to_images/page_1.png'\n",
    "# image_path2 = './pdf_to_images/page_2.png'\n",
    "# image_path3 = './pdf_to_images/page_3.png'\n",
    "# image_path4 = './pdf_to_images/page_4.png'\n",
    "\n",
    "# # Encode images in base64\n",
    "# encoded_image1 = encode_image(image_path1)\n",
    "# encoded_image2 = encode_image(image_path2)\n",
    "# encoded_image3 = encode_image(image_path3)\n",
    "# encoded_image4 = encode_image(image_path4)\n",
    "\n",
    "# headers = {\n",
    "#   \"Content-Type\": \"application/json\",\n",
    "#   \"Authorization\": f\"Bearer {api_key}\"\n",
    "# }\n",
    "\n",
    "# payload = {\n",
    "#   \"model\": \"gpt-4o\",\n",
    "#   \"messages\": [\n",
    "#     {\n",
    "#       \"role\": \"user\",\n",
    "#       \"content\": [\n",
    "#         {\n",
    "#           \"type\": \"text\",\n",
    "#           \"text\": \"Please abstract a list of amend records following 'Amended by: ...' by combining sequential images\"\n",
    "#         },\n",
    "#         {\n",
    "#           \"type\": \"image_url\",\n",
    "#           \"image_url\": {\n",
    "#             \"url\": f\"data:image/jpeg;base64,{encoded_image1}\"\n",
    "#           }\n",
    "#         },\n",
    "#         {\n",
    "#           \"type\": \"image_url\",\n",
    "#           \"image_url\": {\n",
    "#             \"url\": f\"data:image/jpeg;base64,{encoded_image2}\"\n",
    "#           }\n",
    "#         }\n",
    "#       ]\n",
    "#     }\n",
    "#   ],\n",
    "#   \"max_tokens\": 2000\n",
    "# }\n",
    "\n",
    "# response = requests.post(\"https://api.openai.com/v1/chat/completions\", headers=headers, json=payload)\n",
    "\n",
    "# response_data = response.json()\n",
    "# with open('response.json', 'w') as json_file:\n",
    "#     json.dump(response_data, json_file, indent=2)\n",
    "\n",
    "# print(\"Response saved to response.json\")\n",
    "\n",
    "# print(response.json())\n",
    "\n"
   ]
  },
  {
   "cell_type": "code",
   "execution_count": 40,
   "metadata": {},
   "outputs": [
    {
     "data": {
      "text/plain": [
       "['Here is the abstracted list of \"Amended by\" records in the provided images:',\n",
       " '',\n",
       " '1. M1: Commission Delegated Directive 2012/50/EU of 10 October 2012: Official Journal L 348, pages 16, dated 18.12.2012.',\n",
       " '2. M2: Commission Delegated Directive 2012/51/EU of 10 October 2012: Official Journal L 348, pages 18, dated 18.12.2012.',\n",
       " '3. M3: Commission Delegated Directive 2014/1/EU of 18 October 2013: Official Journal L 4, pages 45, dated 9.1.2014.',\n",
       " '4. M4: Commission Delegated Directive 2014/2/EU of 18 October 2013: Official Journal L 4, pages 47, dated 9.1.2014.',\n",
       " '5. M5: Commission Delegated Directive 2014/3/EU of 18 October 2013: Official Journal L 4, pages 49, dated 9.1.2014.',\n",
       " '6. M6: Commission Delegated Directive 2014/4/EU of 18 October 2013: Official Journal L 4, pages 51, dated 9.1.2014.',\n",
       " '7. M7: Commission Delegated Directive 2014/5/EU of 18 October 2013: Official Journal L 4, pages 53, dated 9.1.2014.',\n",
       " '8. M8: Commission Delegated Directive 2014/6/EU of 18 October 2013: Official Journal L 4, pages 55, dated 9.1.2014.',\n",
       " '9. M9: Commission Delegated Directive 2014/7/EU of 18 October 2013: Official Journal L 4, pages 57, dated 9.1.2014.',\n",
       " '10. M10: Commission Delegated Directive 2014/8/EU of 18 October 2013: Official Journal L 4, pages 59, dated 9.1.2014.',\n",
       " '11. M11: Commission Delegated Directive 2014/9/EU of 18 October 2013: Official Journal L 4, pages 61, dated 9.1.2014.',\n",
       " '12. M12: Commission Delegated Directive 2014/10/EU of 18 October 2013: Official Journal L 4, pages 63, dated 9.1.2014.',\n",
       " '13. M13: Commission Delegated Directive 2014/11/EU of 18 October 2013: Official Journal L 4, pages 65, dated 9.1.2014.',\n",
       " '14. M14: Commission Delegated Directive 2014/12/EU of 18 October 2013: Official Journal L 4, pages 67, dated 9.1.2014.',\n",
       " '15. M15: Commission Delegated Directive 2014/13/EU of 18 October 2013: Official Journal L 4, pages 69, dated 9.1.2014.',\n",
       " '16. M16: Commission Delegated Directive 2014/14/EU of 18 October 2013: Official Journal L 4, pages 71, dated 9.1.2014.',\n",
       " '17. M17: Commission Delegated Directive 2014/15/EU of 18 October 2013: Official Journal L 4, pages 73, dated 9.1.2014.',\n",
       " '18. M18: Commission Delegated Directive 2014/16/EU of 18 October 2013: Official Journal L 4, pages 75, dated 9.1.2014.',\n",
       " '19. M19: Commission Delegated Directive 2014/69/EU of 13 March 2014: Official Journal L 148, pages 72, dated 20.5.2014.',\n",
       " '20. M20: Commission Delegated Directive 2014/70/EU of 13 March 2014: Official Journal L 148, pages 74, dated 20.5.2014.',\n",
       " '21. M21: Commission Delegated Directive 2014/71/EU of 13 March 2014: Official Journal L 148, pages 76, dated 20.5.2014.',\n",
       " '22. M22: Commission Delegated Directive 2014/72/EU of 13 March 2014: Official Journal L 148, pages 78, dated 20.5.2014.',\n",
       " '23. M23: Commission Delegated Directive 2014/73/EU of 13 March 2014: Official Journal L 148, pages 80, dated 20.5.2014.',\n",
       " '24. M24: Commission Delegated Directive 2014/74/EU of 13 March 2014: Official Journal L 148, pages 82, dated 20.5.2014.',\n",
       " '25. M25: Commission Delegated Directive 2014/75/EU of 13 March 2014: Official Journal L 148, pages 84, dated 20.5.2014.',\n",
       " '26. M26: Commission Delegated Directive 2014/76/EU of 13 March 2014: Official Journal L 148, pages 86, dated 20.5.2014.',\n",
       " '27. M27: Commission Delegated Directive (EU) 2015/573 of 30 January 2015: Official Journal L 94, pages 4, dated 10.4.2015.',\n",
       " '28. M28: Commission Delegated Directive (EU) 2015/574 of 30 January 2015: Official Journal L 94, pages 6, dated 10.4.2015.',\n",
       " '29. M29: Commission Delegated Directive (EU) 2015/863 of 31 March 2015: Official Journal L 137, pages 10, dated 4.6.2015.',\n",
       " '30. M30: Commission Delegated Directive (EU) 2016/585 of 12 February 2016: Official Journal L 101, pages 12, dated 16.4.2016.',\n",
       " '31. M31: Commission Delegated Directive (EU) 2016/1028 of 19 April 2016: Official Journal L 168, pages 13, dated 25.6.2016.',\n",
       " '32. M32: Commission Delegated Directive (EU) 2016/1029 of 19 April 2016: Official Journal L 168, pages 15, dated 25.6.2016.',\n",
       " '33. M33: Commission Delegated Directive (EU) 2017/1009 of 13 March 2017: Official Journal L 153, pages 23, dated 16.6.2017.',\n",
       " '34. M34: Commission Delegated Directive (EU) 2017/1010 of 13 March 2017: Official Journal L 153, pages 25, dated 16.6.2017.',\n",
       " '35. M35: Commission Delegated Directive (EU) 2017/1011 of 15 March 2017: Official Journal L 153, pages 27, dated 16.6.2017.',\n",
       " '36. M36: Commission Delegated Directive (EU) 2017/1975 of 7 August 2017: Official Journal L 281, pages 29, dated 31.10.2017.',\n",
       " '37. M37: Directive (EU) 2017/2102 of the European Parliament and of the Council of 15 November 2017: Official Journal L 305, pages 8, dated 21.11.2017.',\n",
       " '38. M38: Commission Delegated Directive (EU) 2018/736 of 27 February 2018: Official Journal L 123, pages 94, dated 18.5.2018.',\n",
       " '39. M39: Commission Delegated Directive (EU) 2018/737 of 27 February 2018: Official Journal L 123, pages 97, dated 18.5.2018.',\n",
       " '40. M40: Commission Delegated Directive (EU) 2018/738 of 27 February 2018: Official Journal L 123, pages 100, dated 18.5.2018.',\n",
       " '41. M41: Commission Delegated Directive (EU) 2018/739 of 1 March 2018: Official Journal L 123, pages 103, dated 18.5.2018.',\n",
       " '42. M42: Commission Delegated Directive (EU) 2018/740 of 1 March 2018: Official Journal L 123, pages 106, dated 18.5.2018.',\n",
       " '43. M43: Commission Delegated Directive (EU) 2018/741 of 1 March 2018: Official Journal L 123, pages 109, dated 18.5.2018.',\n",
       " '44. M44: Commission Delegated Directive (EU) 2018/742 of 1 March 2018: Official Journal L 123, pages 112, dated 18.5.2018.',\n",
       " '45. M45: Commission Delegated Directive (EU) 2019/169 of 16 November 2018: Official Journal L 33, pages 5, dated 5.2.2019.',\n",
       " '46. M46: Commission Delegated Directive (EU) 2019/']"
      ]
     },
     "execution_count": 40,
     "metadata": {},
     "output_type": "execute_result"
    }
   ],
   "source": [
    "with open('response.json', 'r') as json_file:\n",
    "    saved_response = json.load(json_file)\n",
    "\n",
    "content = saved_response['choices'][0]['message']['content']\n",
    "content.split('\\n')"
   ]
  },
  {
   "cell_type": "code",
   "execution_count": 41,
   "metadata": {},
   "outputs": [
    {
     "name": "stdout",
     "output_type": "stream",
     "text": [
      "{'id': 'chatcmpl-9mD76c2aOYmB09HfPaevQxdenjZ6T', 'object': 'chat.completion', 'created': 1721277180, 'model': 'gpt-4o-2024-05-13', 'choices': [{'index': 0, 'message': {'role': 'assistant', 'content': 'Here is the tabular data abstracted into a dictionary format suitable for saving as JSON:\\n\\n```python\\ndata = {\\n    \"Directive 2002/95/EC\": {\\n        \"Article 1\": \"Article 1\",\\n        \"Article 2(1)\": \"Article 2(1), 2(2), Annex I\",\\n        \"Article 2(2)\": \"Article 2(3)\",\\n        \"Article 2(3)\": \"Article 2(4), introductory wording\",\\n        \"None_1\": \"Article 2(4)\",\\n        \"Article 3(a)\": \"Article 3(1)(2)\",\\n        \"Article 3(b)\": \"None\",\\n        \"None_2\": \"Article 3(6)-(28)\",\\n        \"Article 4(1)\": \"Article 4(1), Annex II\",\\n        \"None_3\": \"Article 4(3)-(4)\",\\n        \"Article 4(2)\": \"Article 4(6)\",\\n        \"Article 4(3)\": \"None\",\\n        \"Article 5(1), introductory wording\": \"Article 5(1), introductory wording\",\\n        \"Article 5(1)(a)\": \"Article 4(2)\",\\n        \"Article 5(1)(b)\": [\\n            \"Article 5(1)(a), first and third indents\",\\n            \"Article 5(1)(a), second indent\",\\n            \"Article 5(1)(a), final paragraph\"\\n        ],\\n        \"None_4\": \"Article 5(1)(b)\",\\n        \"Article 5(1)(c)\": \"None\",\\n        \"Article 5(2)\": [\\n            \"Article 5(2)\",\\n            \"Article 5(3)-(6)\"\\n        ],\\n        \"None_5\": \"Article 5(7)\",\\n        \"Article 6\": \"Article 5(8)\",\\n        \"None_6\": \"Article 6\",\\n        \"Article 7\": \"Article 6-18\",\\n        \"Article 8\": \"Articles 19-22\",\\n        \"Article 9\": \"Article 23\",\\n        \"None_7\": \"Article 25\",\\n        \"Article 10\": \"Article 26\",\\n        \"Article 11\": \"Article 27\",\\n        \"None_8\": \"Article 28\",\\n        \"Annex, points 1-39\": \"Annexes I-II\",\\n        \"None_9\": \"Annex III, points 1-39\",\\n        \"None_10\": \"Annexes IV, V, VI-VIII\"\\n    }\\n}\\n\\nimport json\\n\\n# Save the dictionary to a JSON file\\nwith open(\\'data.json\\', \\'w\\') as json_file:\\n    json.dump(data, json_file, indent=4)\\n```'}, 'logprobs': None, 'finish_reason': 'stop'}], 'usage': {'prompt_tokens': 791, 'completion_tokens': 578, 'total_tokens': 1369}, 'system_fingerprint': 'fp_5e997b69d8'}\n"
     ]
    }
   ],
   "source": [
    "# - Test Tabular Text\n",
    "import base64\n",
    "import requests\n",
    "import os\n",
    "\n",
    "# OpenAI API Key\n",
    "api_key = os.getenv(\"OPENAI_API_KEY\")\n",
    "\n",
    "# Function to encode the image\n",
    "def encode_image(image_path):\n",
    "  with open(image_path, \"rb\") as image_file:\n",
    "    return base64.b64encode(image_file.read()).decode('utf-8')\n",
    "\n",
    "# Path to your image\n",
    "image_path = \"./pdf_to_images/page_45.png\"\n",
    "\n",
    "# Getting the base64 string\n",
    "base64_image = encode_image(image_path)\n",
    "\n",
    "headers = {\n",
    "  \"Content-Type\": \"application/json\",\n",
    "  \"Authorization\": f\"Bearer {api_key}\"\n",
    "}\n",
    "\n",
    "payload = {\n",
    "  \"model\": \"gpt-4o\",\n",
    "  \"messages\": [\n",
    "    {\n",
    "      \"role\": \"user\",\n",
    "      \"content\": [\n",
    "        {\n",
    "          \"type\": \"text\",\n",
    "          \"text\": \"Please abstract tabular data in a dictionary data structure which I will save it in json later'\"\n",
    "        },\n",
    "        {\n",
    "          \"type\": \"image_url\",\n",
    "          \"image_url\": {\n",
    "            \"url\": f\"data:image/jpeg;base64,{base64_image}\"\n",
    "          }\n",
    "        }\n",
    "      ]\n",
    "    }\n",
    "  ],\n",
    "  \"max_tokens\": 1000\n",
    "}\n",
    "\n",
    "response = requests.post(\"https://api.openai.com/v1/chat/completions\", headers=headers, json=payload)\n",
    "\n",
    "print(response.json())\n"
   ]
  },
  {
   "cell_type": "markdown",
   "metadata": {},
   "source": [
    "**Response**:\n",
    "{'id': 'chatcmpl-9mCNgpE3l2SPrBoHhJ896lDzHL82v', 'object': 'chat.completion', 'created': 1721274364, 'model': 'gpt-4o-2024-05-13', 'choices': [{'index': 0, 'message': {'role': 'assistant', 'content': \"Here is the list of amended rules following 'Amended by: ...':\\n\\n1. **M1**: Commission Delegated Directive 2012/50/EU of 10 October 2012, published in Official Journal L 348, page 16 on 18.12.2012\\n2. **M2**: Commission Delegated Directive 2012/51/EU of 10 October 2012, published in Official Journal L 348, page 18 on 18.12.2012\\n3. **M3**: Commission Delegated Directive 2014/1/EU of 18 October 2013, published in Official Journal L 4, page 45 on 9.1.2014\\n4. **M4**: Commission Delegated Directive 2014/2/EU of 18 October 2013, published in Official Journal L 4, page 47 on 9.1.2014\\n5. **M5**: Commission Delegated Directive 2014/3/EU of 18 October 2013, published in Official Journal L 4, page 49 on 9.1.2014\\n6. **M6**: Commission Delegated Directive 2014/4/EU of 18 October 2013, published in Official Journal L 4, page 51 on 9.1.2014\\n7. **M7**: Commission Deleg\"}, 'logprobs': None, 'finish_reason': 'length'}], 'usage': {'prompt_tokens': 787, 'completion_tokens': 300, 'total_tokens': 1087}, 'system_fingerprint': 'fp_5e997b69d8'}"
   ]
  }
 ],
 "metadata": {
  "kernelspec": {
   "display_name": "openai-env",
   "language": "python",
   "name": "python3"
  },
  "language_info": {
   "codemirror_mode": {
    "name": "ipython",
    "version": 3
   },
   "file_extension": ".py",
   "mimetype": "text/x-python",
   "name": "python",
   "nbconvert_exporter": "python",
   "pygments_lexer": "ipython3",
   "version": "3.12.2"
  }
 },
 "nbformat": 4,
 "nbformat_minor": 2
}
